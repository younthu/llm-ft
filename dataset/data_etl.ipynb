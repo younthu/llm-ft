{
 "cells": [
  {
   "cell_type": "markdown",
   "id": "8b69ccd0-9232-4df6-bfb9-a40787cb7958",
   "metadata": {},
   "source": [
    "# Convert csv to json"
   ]
  },
  {
   "cell_type": "code",
   "execution_count": 2,
   "id": "a821abde-d68e-4663-9a35-3f8cbfca7bee",
   "metadata": {},
   "outputs": [],
   "source": [
    "import pandas as pd\n",
    "\n",
    "df = pd.read_csv(\"./rainbows-2025-01-21.csv\")"
   ]
  },
  {
   "cell_type": "code",
   "execution_count": 15,
   "id": "3d8dce13-1f55-4093-9dc3-f590cc72fa8d",
   "metadata": {},
   "outputs": [],
   "source": [
    "import json\n",
    "result = []\n",
    "for index, row in df.iterrows():\n",
    "    result.append({\"id\": row[\"Id\"], \n",
    "                   \"sentence\": row[\"Sentence\"],\n",
    "                   \"output\": [row[\"Sentence\"]],\n",
    "                   \"prompts\":[\"{type},{verb}人非常{tag}\"], \n",
    "                   \"verb\": [\"夸\", \"讽刺\"],\n",
    "                   \"person\": [],\n",
    "                   \"tags\":[], \n",
    "                   \"type\": [\"毒鸡汤\"], \n",
    "                   \"input\":\"\"})\n",
    "\n",
    "with open('./rainbows.json', 'w') as f:\n",
    "    json.dump(result, f, ensure_ascii=False, indent=4)"
   ]
  },
  {
   "cell_type": "code",
   "execution_count": null,
   "id": "db777e53-b372-4015-b031-718f2a3de377",
   "metadata": {},
   "outputs": [],
   "source": []
  },
  {
   "cell_type": "code",
   "execution_count": null,
   "id": "ac4e51ce-b883-4cc3-914a-7591342f04b5",
   "metadata": {},
   "outputs": [],
   "source": []
  }
 ],
 "metadata": {
  "kernelspec": {
   "display_name": "Python 3 (ipykernel)",
   "language": "python",
   "name": "python3"
  },
  "language_info": {
   "codemirror_mode": {
    "name": "ipython",
    "version": 3
   },
   "file_extension": ".py",
   "mimetype": "text/x-python",
   "name": "python",
   "nbconvert_exporter": "python",
   "pygments_lexer": "ipython3",
   "version": "3.10.15"
  }
 },
 "nbformat": 4,
 "nbformat_minor": 5
}
