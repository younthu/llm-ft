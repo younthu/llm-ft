{
 "cells": [
  {
   "cell_type": "markdown",
   "id": "0ba165d5-3231-417b-adcc-a77627e75769",
   "metadata": {},
   "source": [
    "# 实验1\n",
    "\n",
    "提取简单的html内容到json里面。该html只包含一个title,一个address.\n",
    "instruct\n",
    "~~~\n",
    "请把下面的Fiske Html转化成json格式：\n",
    "~~~\n",
    "\n",
    "~~~html\n",
    "<html>\n",
    "    <body>\n",
    "        <h1>New York University</h1>\n",
    "        <p>22 Washington Square, New York, NY 10012</p>\n",
    "    </body>\n",
    "</html>\n",
    "~~~\n",
    "\n",
    "输出\n",
    "\n",
    "~~~json\n",
    "{\n",
    "    \"name\": \"New York University\",\n",
    "    \"address\": \"22 Washington Square, New York, NY 10012\"\n",
    "}\n",
    "~~~"
   ]
  },
  {
   "cell_type": "code",
   "execution_count": 1,
   "id": "694511b7-507f-456c-b3a0-e519089d5ce9",
   "metadata": {},
   "outputs": [],
   "source": [
    "output = \"\"\"\n",
    "{\n",
    "    \"name\": \"New York University\",\n",
    "    \"address\": \"22 Washington Square, New York, NY 10012\"\n",
    "}\n",
    "\"\"\"\n",
    "instruction = \"请把下面的fiske html转换成json\"\n",
    "input = \"\"\"\n",
    "<html>\n",
    "    <body>\n",
    "        <h1>New York University</h1>\n",
    "        <p>22 Washington Square, New York, NY 10012</p>\n",
    "    </body>\n",
    "</html>\n",
    "\"\"\""
   ]
  },
  {
   "cell_type": "code",
   "execution_count": 4,
   "id": "f200d701-c2e1-4c4c-80ad-16e08b4b9fbb",
   "metadata": {},
   "outputs": [],
   "source": [
    "import json\n",
    "with open(\"simple_html.json\", 'w') as f:\n",
    "    json.dump([{\"instruction\": instruction, \"input\": input, \"output\": output}], f, indent=4, ensure_ascii=False)"
   ]
  },
  {
   "cell_type": "code",
   "execution_count": 12,
   "id": "d7fbd703-d0e2-4ec2-b53a-5b46caec4a81",
   "metadata": {},
   "outputs": [],
   "source": [
    "import json\n",
    "\n",
    "input_template = \"\"\"\n",
    "<html>\n",
    "    <body>\n",
    "        <h1>New York University</h1>\n",
    "        <p> Washington Square, New York, NY {zip}</p>\n",
    "    </body>\n",
    "</html>\n",
    "\"\"\"\n",
    "\n",
    "output_template = \"\"\"\n",
    "{{\n",
    "    \"name\": \"New York University\",\n",
    "    \"address\": \"22 Washington Square, New York, NY {zip}\"\n",
    "}}\n",
    "\"\"\"\n",
    "\n",
    "template = \"\"\"\n",
    "\"instruction\": \"请把下面的fiske html重要信息提取出来转成json格式\",\n",
    "\"input\": \"{input}\",\n",
    "\"\": \"{output}\"\n",
    "\"\"\"\n",
    "data = []\n",
    "\n",
    "for i in range(0, 10000):\n",
    "    input = input_template.format(zip=10012 + i)\n",
    "    output = output_template.format(zip=10012 + i)\n",
    "    data.append({\"instruction\": \"请把下面的fiske html重要信息提取出来转成json格式\", \"input\":})\n",
    "    \n",
    "with open(\"data/exp1/simple_html2.json\", 'w') as f:\n",
    "    json.dump(data, f, indent=4, ensure_ascii=False)"
   ]
  },
  {
   "cell_type": "code",
   "execution_count": null,
   "id": "4ba25b1f-626c-453b-8698-e16eb0352c9f",
   "metadata": {},
   "outputs": [],
   "source": []
  }
 ],
 "metadata": {
  "kernelspec": {
   "display_name": "Python 3 (ipykernel)",
   "language": "python",
   "name": "python3"
  },
  "language_info": {
   "codemirror_mode": {
    "name": "ipython",
    "version": 3
   },
   "file_extension": ".py",
   "mimetype": "text/x-python",
   "name": "python",
   "nbconvert_exporter": "python",
   "pygments_lexer": "ipython3",
   "version": "3.10.15"
  }
 },
 "nbformat": 4,
 "nbformat_minor": 5
}
