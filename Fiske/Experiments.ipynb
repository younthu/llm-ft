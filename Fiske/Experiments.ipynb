{
 "cells": [
  {
   "cell_type": "markdown",
   "id": "0ba165d5-3231-417b-adcc-a77627e75769",
   "metadata": {},
   "source": [
    "# 实验1\n",
    "\n",
    "提取简单的html内容到json里面。该html只包含一个title,一个address.\n",
    "instruct\n",
    "~~~\n",
    "请把下面的Fiske Html转化成json格式：\n",
    "~~~\n",
    "\n",
    "~~~html\n",
    "<html>\n",
    "    <body>\n",
    "        <h1>New York University</h1>\n",
    "        <p>22 Washington Square, New York, NY 10012</p>\n",
    "    </body>\n",
    "</html>\n",
    "~~~\n",
    "\n",
    "输出\n",
    "\n",
    "~~~json\n",
    "{\n",
    "    \"name\": \"New York University\",\n",
    "    \"address\": \"22 Washington Square, New York, NY 10012\"\n",
    "}\n",
    "~~~"
   ]
  },
  {
   "cell_type": "code",
   "execution_count": null,
   "id": "694511b7-507f-456c-b3a0-e519089d5ce9",
   "metadata": {},
   "outputs": [],
   "source": []
  }
 ],
 "metadata": {
  "kernelspec": {
   "display_name": "Python 3 (ipykernel)",
   "language": "python",
   "name": "python3"
  },
  "language_info": {
   "codemirror_mode": {
    "name": "ipython",
    "version": 3
   },
   "file_extension": ".py",
   "mimetype": "text/x-python",
   "name": "python",
   "nbconvert_exporter": "python",
   "pygments_lexer": "ipython3",
   "version": "3.11.11"
  }
 },
 "nbformat": 4,
 "nbformat_minor": 5
}
